{
 "cells": [
  {
   "cell_type": "code",
   "execution_count": 1,
   "metadata": {},
   "outputs": [],
   "source": [
    "import numpy as np\n",
    "import matplotlib.pyplot as plt\n",
    "import pandas as pd\n"
   ]
  },
  {
   "cell_type": "code",
   "execution_count": 52,
   "metadata": {},
   "outputs": [
    {
     "data": {
      "text/plain": [
       "<matplotlib.collections.PathCollection at 0x1546ec11358>"
      ]
     },
     "execution_count": 52,
     "metadata": {},
     "output_type": "execute_result"
    },
    {
     "data": {
      "image/png": "[encoded data removed]",
      "text/plain": [
       "<matplotlib.figure.Figure at 0x1546eaedfd0>"
      ]
     },
     "metadata": {},
     "output_type": "display_data"
    }
   ],
   "source": [
    "r=np.random.RandomState(1)\n",
    "x=10*r.rand(50)\n",
    "y=x+r.randn(50)\n",
    "plt.scatter(x,y)"
   ]
  },
  {
   "cell_type": "code",
   "execution_count": 7,
   "metadata": {},
   "outputs": [
    {
     "data": {
      "text/plain": [
       "array([ 4.189587  ,  7.88208047,  0.21277186,  3.28887239,  1.95913207,\n",
       "        0.97674849,  2.43671972,  3.60233585,  4.55698028,  6.0879257 ,\n",
       "        4.29427957,  7.26625099,  2.73892266,  9.19535363,  0.32382939,\n",
       "        7.24057151,  4.83684267,  6.1017874 ,  2.34846414,  2.56756993,\n",
       "        8.9108476 ,  9.82009046,  3.27351813,  7.73061745,  9.16156836,\n",
       "        9.11142083,  1.77795069,  0.73831369,  2.4491163 ,  9.50742302,\n",
       "        1.86677443,  4.83474846, 10.32983774,  5.68055119,  7.18869903,\n",
       "        4.05104253,  7.29310047,  9.31109677,  0.84632427,  8.12313887,\n",
       "       10.00335686,  8.4311458 ,  3.25435205,  8.4711829 ,  1.44039687,\n",
       "        4.71596224,  9.98933455,  3.50982097,  2.88062371,  1.91743063])"
      ]
     },
     "execution_count": 7,
     "metadata": {},
     "output_type": "execute_result"
    }
   ],
   "source": [
    "\n",
    "y"
   ]
  },
  {
   "cell_type": "code",
   "execution_count": 8,
   "metadata": {},
   "outputs": [
    {
     "data": {
      "text/plain": [
       "array([4.17022005e+00, 7.20324493e+00, 1.14374817e-03, 3.02332573e+00,\n",
       "       1.46755891e+00, 9.23385948e-01, 1.86260211e+00, 3.45560727e+00,\n",
       "       3.96767474e+00, 5.38816734e+00, 4.19194514e+00, 6.85219500e+00,\n",
       "       2.04452250e+00, 8.78117436e+00, 2.73875932e-01, 6.70467510e+00,\n",
       "       4.17304802e+00, 5.58689828e+00, 1.40386939e+00, 1.98101489e+00,\n",
       "       8.00744569e+00, 9.68261576e+00, 3.13424178e+00, 6.92322616e+00,\n",
       "       8.76389152e+00, 8.94606664e+00, 8.50442114e-01, 3.90547832e-01,\n",
       "       1.69830420e+00, 8.78142503e+00, 9.83468338e-01, 4.21107625e+00,\n",
       "       9.57889530e+00, 5.33165285e+00, 6.91877114e+00, 3.15515631e+00,\n",
       "       6.86500928e+00, 8.34625672e+00, 1.82882773e-01, 7.50144315e+00,\n",
       "       9.88861089e+00, 7.48165654e+00, 2.80443992e+00, 7.89279328e+00,\n",
       "       1.03226007e+00, 4.47893526e+00, 9.08595503e+00, 2.93614148e+00,\n",
       "       2.87775339e+00, 1.30028572e+00])"
      ]
     },
     "execution_count": 8,
     "metadata": {},
     "output_type": "execute_result"
    }
   ],
   "source": [
    "x"
   ]
  },
  {
   "cell_type": "code",
   "execution_count": 9,
   "metadata": {},
   "outputs": [],
   "source": [
    "dx=np.diff(x)"
   ]
  },
  {
   "cell_type": "code",
   "execution_count": 34,
   "metadata": {},
   "outputs": [
    {
     "data": {
      "text/plain": [
       "array([ 3.03302489, -7.20210119,  3.02218198, -1.55576682, -0.54417296,\n",
       "        0.93921617,  1.59300516,  0.51206747,  1.4204926 , -1.1962222 ,\n",
       "        2.66024986, -4.80767251,  6.73665187, -8.50729843,  6.43079917,\n",
       "       -2.53162708,  1.41385026, -4.1830289 ,  0.5771455 ,  6.0264308 ,\n",
       "        1.67517007, -6.54837398,  3.78898438,  1.84066537,  0.18217511,\n",
       "       -8.09562452, -0.45989428,  1.30775636,  7.08312084, -7.7979567 ,\n",
       "        3.22760791,  5.36781905, -4.24724245,  1.58711829, -3.76361483,\n",
       "        3.70985297,  1.48124744, -8.16337395,  7.31856038,  2.38716774,\n",
       "       -2.40695435, -4.67721662,  5.08835336, -6.86053322,  3.4466752 ,\n",
       "        4.60701977, -6.14981355, -0.0583881 , -1.57746766])"
      ]
     },
     "execution_count": 34,
     "metadata": {},
     "output_type": "execute_result"
    }
   ],
   "source": [
    "dx"
   ]
  },
  {
   "cell_type": "code",
   "execution_count": 12,
   "metadata": {},
   "outputs": [],
   "source": [
    "dy=np.diff(y)"
   ]
  },
  {
   "cell_type": "code",
   "execution_count": 35,
   "metadata": {},
   "outputs": [
    {
     "data": {
      "text/plain": [
       "array([ 3.69249346, -7.6693086 ,  3.07610052, -1.32974032, -0.98238357,\n",
       "        1.45997123,  1.16561613,  0.95464443,  1.53094542, -1.79364613,\n",
       "        2.97197142, -4.52732834,  6.45643098, -8.87152424,  6.91674212,\n",
       "       -2.40372884,  1.26494473, -3.75332325,  0.21910579,  6.34327767,\n",
       "        0.90924286, -6.54657233,  4.45709932,  1.43095091, -0.05014753,\n",
       "       -7.33347014, -1.039637  ,  1.71080261,  7.05830672, -7.64064859,\n",
       "        2.96797403,  5.49508928, -4.64928654,  1.50814784, -3.1376565 ,\n",
       "        3.24205794,  2.0179963 , -8.46477249,  7.2768146 ,  1.88021799,\n",
       "       -1.57221106, -5.17679375,  5.21683084, -7.03078603,  3.27556537,\n",
       "        5.27337231, -6.47951358, -0.62919726, -0.96319308])"
      ]
     },
     "execution_count": 35,
     "metadata": {},
     "output_type": "execute_result"
    }
   ],
   "source": [
    "dy\n"
   ]
  },
  {
   "cell_type": "code",
   "execution_count": 44,
   "metadata": {},
   "outputs": [],
   "source": [
    "m=dy.mean()/dx.mean()"
   ]
  },
  {
   "cell_type": "code",
   "execution_count": 45,
   "metadata": {},
   "outputs": [
    {
     "data": {
      "text/plain": [
       "0.7917102317054442"
      ]
     },
     "execution_count": 45,
     "metadata": {},
     "output_type": "execute_result"
    }
   ],
   "source": [
    "m"
   ]
  },
  {
   "cell_type": "code",
   "execution_count": 56,
   "metadata": {},
   "outputs": [
    {
     "data": {
      "image/png": "[encoded data removed]",
      "text/plain": [
       "<matplotlib.figure.Figure at 0x1546ed3a3c8>"
      ]
     },
     "metadata": {},
     "output_type": "display_data"
    }
   ],
   "source": [
    "\n",
    "plt.scatter(x,y)\n",
    "c=y.mean()-m*x.mean()\n",
    "y1=m*x+c\n",
    "plt.plot(x,y1)\n",
    "plt.show()"
   ]
  },
  {
   "cell_type": "code",
   "execution_count": 27,
   "metadata": {},
   "outputs": [],
   "source": []
  }
 ],
 "metadata": {
  "kernelspec": {
   "display_name": "Python 3",
   "language": "python",
   "name": "python3"
  },
  "language_info": {
   "codemirror_mode": {
    "name": "ipython",
    "version": 3
   },
   "file_extension": ".py",
   "mimetype": "text/x-python",
   "name": "python",
   "nbconvert_exporter": "python",
   "pygments_lexer": "ipython3",
   "version": "3.6.4"
  }
 },
 "nbformat": 4,
 "nbformat_minor": 2
}
